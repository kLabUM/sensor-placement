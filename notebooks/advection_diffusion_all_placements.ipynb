{
 "cells": [
  {
   "cell_type": "code",
   "execution_count": 1,
   "metadata": {
    "collapsed": true
   },
   "outputs": [],
   "source": [
    "import os\n",
    "import sys\n",
    "import numpy as np\n",
    "import pandas as pd\n",
    "from scipy import misc\n",
    "import matplotlib.pyplot as plt\n",
    "from scipy import sparse\n",
    "from scipy.sparse import csgraph\n",
    "from scipy import linalg\n",
    "from pysheds.grid import Grid\n",
    "from scipy import ndimage\n",
    "from matplotlib import colors\n",
    "import seaborn as sns\n",
    "\n",
    "import matplotlib\n",
    "import matplotlib.cm as cm\n",
    "from matplotlib.collections import LineCollection\n",
    "import matplotlib.gridspec as gridspec\n",
    "\n",
    "from matplotlib.animation import FuncAnimation, ArtistAnimation\n",
    "from IPython.display import HTML\n",
    "\n",
    "%matplotlib inline"
   ]
  },
  {
   "cell_type": "code",
   "execution_count": 2,
   "metadata": {
    "collapsed": true
   },
   "outputs": [],
   "source": [
    "sns.set_palette('husl', 2)"
   ]
  },
  {
   "cell_type": "code",
   "execution_count": 3,
   "metadata": {
    "collapsed": true
   },
   "outputs": [],
   "source": [
    "grid = Grid.from_raster('../../pysheds/data/n30w100_dir',\n",
    "                 data_name='dir', input_type='ascii')"
   ]
  },
  {
   "cell_type": "code",
   "execution_count": 4,
   "metadata": {
    "collapsed": true
   },
   "outputs": [],
   "source": [
    "grid.read_raster('../../pysheds/data/n30w100_con',\n",
    "                 data_name='dem', input_type='ascii')"
   ]
  },
  {
   "cell_type": "code",
   "execution_count": 5,
   "metadata": {},
   "outputs": [],
   "source": [
    "dirmap = (64,  128,  1,   2,    4,   8,    16,  32)\n",
    "\n",
    "# Specify pour point\n",
    "x, y = -97.294167, 32.73750\n",
    "\n",
    "# Delineate the catchment\n",
    "grid.catchment(data='dir', x=x, y=y, dirmap=dirmap, out_name='catch',\n",
    "               recursionlimit=15000, xytype='label')\n",
    "# Clip the bounding box to the catchment\n",
    "grid.clip_to('catch', precision=5)\n",
    "\n",
    "grid.accumulation(data='catch', dirmap=dirmap, pad_inplace=False, out_name='acc')"
   ]
  },
  {
   "cell_type": "code",
   "execution_count": 6,
   "metadata": {},
   "outputs": [],
   "source": [
    "profiles, connections = grid.extract_profiles('catch', grid.acc > 25)"
   ]
  },
  {
   "cell_type": "code",
   "execution_count": 7,
   "metadata": {},
   "outputs": [],
   "source": [
    "geom = grid.extract_river_network('catch', grid.acc > 25)"
   ]
  },
  {
   "cell_type": "markdown",
   "metadata": {},
   "source": [
    "# Lo Diffusion + advection"
   ]
  },
  {
   "cell_type": "code",
   "execution_count": 8,
   "metadata": {},
   "outputs": [],
   "source": [
    "dx = 60. * (np.asarray([profile.size for profile in profiles]) + 1)\n",
    "n = max(max(connections.keys()), max(connections.values())) + 1\n",
    "s = np.ones(n)\n",
    "I = np.eye(n)\n",
    "u = 1.0*np.ones(n)\n",
    "D = (u * dx / 10).mean()*np.ones(n)\n",
    "dt = 1\n",
    "I[0, 0] = 0\n",
    "\n",
    "U = np.zeros((n, n))\n",
    "W = np.zeros((n, n))\n",
    "\n",
    "for i, j in connections.items():\n",
    "    # Confirmed as i\n",
    "    U[j, i] = u[i] * dt / dx[i]\n",
    "    W[i, j] = u[i] * dt / dx[i]\n",
    "    \n",
    "V = np.diag(W @ s)\n",
    "\n",
    "X = np.zeros((n, n))\n",
    "\n",
    "for i, j in connections.items():\n",
    "    X[i, j] = 2 / (dx[i] + dx[j])\n",
    "    X[j, i] = 2 / (dx[i] + dx[j])\n",
    "    \n",
    "Y = np.diag(X @ s)\n",
    "\n",
    "Z = np.diag(D * dt / dx)\n",
    "S = (U - V) - Z @ (Y - X) + I"
   ]
  },
  {
   "cell_type": "code",
   "execution_count": 9,
   "metadata": {},
   "outputs": [
    {
     "data": {
      "text/plain": [
       "10.0"
      ]
     },
     "execution_count": 9,
     "metadata": {},
     "output_type": "execute_result"
    }
   ],
   "source": [
    "(u * dx / D).mean()"
   ]
  },
  {
   "cell_type": "code",
   "execution_count": 10,
   "metadata": {},
   "outputs": [
    {
     "data": {
      "text/plain": [
       "(0.0, 0.0, 0.9997196165216538, -0.0027755206889173286)"
      ]
     },
     "execution_count": 10,
     "metadata": {},
     "output_type": "execute_result"
    }
   ],
   "source": [
    "np.imag(np.linalg.eig(S)[0]).max(), np.imag(np.linalg.eig(S)[0]).min(), np.real(np.linalg.eig(S)[0]).max(), np.real(np.linalg.eig(S)[0]).min()"
   ]
  },
  {
   "cell_type": "code",
   "execution_count": 11,
   "metadata": {},
   "outputs": [],
   "source": [
    "C = np.eye(n)"
   ]
  },
  {
   "cell_type": "code",
   "execution_count": 12,
   "metadata": {},
   "outputs": [],
   "source": [
    "W_os = []\n",
    "for i in range(len(S)):\n",
    "    W_o_i = linalg.solve_discrete_lyapunov(S.T, I[[i]].T @ I[[i]])\n",
    "    W_os.append(W_o_i)"
   ]
  },
  {
   "cell_type": "code",
   "execution_count": 13,
   "metadata": {},
   "outputs": [],
   "source": [
    "Ws = []\n",
    "sr = []\n",
    "ns = 32\n",
    "\n",
    "for i in range(ns):\n",
    "    rs = np.asarray([np.linalg.matrix_rank(w + sum(Ws)) for w in W_os])\n",
    "    ix = np.argmax(rs)\n",
    "    sr.append(ix)\n",
    "    Ws.append(W_os[ix])"
   ]
  },
  {
   "cell_type": "code",
   "execution_count": 14,
   "metadata": {},
   "outputs": [],
   "source": [
    "W_c = linalg.solve_discrete_lyapunov(S, I)\n",
    "st = np.argsort(np.diag(W_c))[::-1][:ns]"
   ]
  },
  {
   "cell_type": "code",
   "execution_count": 15,
   "metadata": {},
   "outputs": [
    {
     "data": {
      "text/plain": [
       "array([  1, 128, 136,  52,  64,  92, 194,   9, 143, 161, 191,  13,  71,\n",
       "        15, 125,  77, 141, 198,  58, 150, 102,  12,  88, 164, 204,   2,\n",
       "        70,  87, 159, 177, 197,  22])"
      ]
     },
     "execution_count": 15,
     "metadata": {},
     "output_type": "execute_result"
    }
   ],
   "source": [
    "sr = np.asarray(sr)\n",
    "sr"
   ]
  },
  {
   "cell_type": "code",
   "execution_count": 16,
   "metadata": {},
   "outputs": [
    {
     "data": {
      "text/plain": [
       "array([  5,   8,  14,  42,  26,  76,  51,  89,  45,  55,  63,  83,  28,\n",
       "         1,  65,  85, 104,  93, 103, 121, 115,  13,  11, 140,   9, 194,\n",
       "       107,   6,  71,  64,  31,  40])"
      ]
     },
     "execution_count": 16,
     "metadata": {},
     "output_type": "execute_result"
    }
   ],
   "source": [
    "st = np.asarray(st)\n",
    "st"
   ]
  },
  {
   "cell_type": "code",
   "execution_count": 17,
   "metadata": {},
   "outputs": [
    {
     "data": {
      "image/png": "[encoded data removed]",
      "text/plain": [
       "<Figure size 576x288 with 2 Axes>"
      ]
     },
     "metadata": {},
     "output_type": "display_data"
    }
   ],
   "source": [
    "fig, ax = plt.subplots(1, 2, figsize=(8, 4))\n",
    "\n",
    "segs = [np.asarray(branch['geometry']['coordinates']) for branch in geom['features']]\n",
    "\n",
    "for i in range(2):\n",
    "    ax[i].set_facecolor('w')\n",
    "    ax[i].xaxis.set_ticklabels([])\n",
    "    ax[i].yaxis.set_ticklabels([])\n",
    "\n",
    "ax[0].imshow(np.where(grid.view('catch'), 1, np.nan), zorder=1, cmap='Greys',\n",
    "             vmin=0, vmax=6, extent=grid.extent, alpha=0.5)\n",
    "\n",
    "ax[1].imshow(np.where(grid.view('catch'), 1, np.nan), zorder=1, cmap='Greys',\n",
    "             vmin=0, vmax=6, extent=grid.extent, alpha=0.5)\n",
    "\n",
    "line_segments = LineCollection(segs, color='0.75', linewidths=1.5)\n",
    "im = ax[0].add_collection(line_segments)\n",
    "ax[0].autoscale()\n",
    "\n",
    "line_segments = LineCollection(segs, color='0.75', linewidths=1.5)\n",
    "im = ax[1].add_collection(line_segments)\n",
    "ax[1].autoscale()\n",
    "\n",
    "coords = np.asarray([geom['features'][j]['geometry']['coordinates'][0]\n",
    "                     for j in sr])\n",
    "ax[0].scatter(coords[:,0], coords[:,1], zorder=5,\n",
    "                   marker='x', c='0.2', s=35, edgecolor='0.1', linewidth=2.5)\n",
    "\n",
    "coords = np.asarray([geom['features'][j]['geometry']['coordinates'][0]\n",
    "                     for j in st])\n",
    "ax[1].scatter(coords[:,0], coords[:,1], zorder=5,\n",
    "                   marker='x', c='0.2', s=35, edgecolor='0.1', linewidth=2.5)\n",
    "\n",
    "ax[0].set_title('Rank-based sensor placement', size=14)\n",
    "ax[1].set_title('Trace-based sensor placement', size=14)\n",
    "\n",
    "plt.tight_layout()"
   ]
  },
  {
   "cell_type": "code",
   "execution_count": null,
   "metadata": {},
   "outputs": [],
   "source": []
  }
 ],
 "metadata": {
  "kernelspec": {
   "display_name": "Python 3",
   "language": "python",
   "name": "python3"
  },
  "language_info": {
   "codemirror_mode": {
    "name": "ipython",
    "version": 3
   },
   "file_extension": ".py",
   "mimetype": "text/x-python",
   "name": "python",
   "nbconvert_exporter": "python",
   "pygments_lexer": "ipython3",
   "version": "3.6.0"
  }
 },
 "nbformat": 4,
 "nbformat_minor": 2
}
