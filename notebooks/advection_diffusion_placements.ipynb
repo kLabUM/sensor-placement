{
 "cells": [
  {
   "cell_type": "code",
   "execution_count": 1,
   "metadata": {
    "collapsed": true
   },
   "outputs": [],
   "source": [
    "import os\n",
    "import sys\n",
    "import numpy as np\n",
    "import pandas as pd\n",
    "from scipy import misc\n",
    "import matplotlib.pyplot as plt\n",
    "from scipy import sparse\n",
    "from scipy.sparse import csgraph\n",
    "from scipy import linalg\n",
    "from pysheds.grid import Grid\n",
    "from scipy import ndimage\n",
    "from matplotlib import colors\n",
    "import seaborn as sns\n",
    "\n",
    "import matplotlib\n",
    "import matplotlib.cm as cm\n",
    "from matplotlib.collections import LineCollection\n",
    "\n",
    "%matplotlib inline"
   ]
  },
  {
   "cell_type": "code",
   "execution_count": 2,
   "metadata": {
    "collapsed": true
   },
   "outputs": [],
   "source": [
    "sns.set_palette('husl', 2)"
   ]
  },
  {
   "cell_type": "code",
   "execution_count": 3,
   "metadata": {
    "collapsed": true
   },
   "outputs": [],
   "source": [
    "grid = Grid.from_raster('../../../pysheds/data/n30w100_dir',\n",
    "                 data_name='dir', input_type='ascii')"
   ]
  },
  {
   "cell_type": "code",
   "execution_count": 4,
   "metadata": {
    "collapsed": true
   },
   "outputs": [],
   "source": [
    "grid.read_raster('../../../pysheds/data/n30w100_con',\n",
    "                 data_name='dem', input_type='ascii')"
   ]
  },
  {
   "cell_type": "code",
   "execution_count": 5,
   "metadata": {},
   "outputs": [],
   "source": [
    "dirmap = (64,  128,  1,   2,    4,   8,    16,  32)\n",
    "\n",
    "# Specify pour point\n",
    "x, y = -97.294167, 32.73750\n",
    "\n",
    "# Delineate the catchment\n",
    "grid.catchment(data='dir', x=x, y=y, dirmap=dirmap, out_name='catch',\n",
    "               recursionlimit=15000, xytype='label')\n",
    "# Clip the bounding box to the catchment\n",
    "grid.clip_to('catch', precision=5)\n",
    "\n",
    "grid.accumulation(data='catch', dirmap=dirmap, pad_inplace=False, out_name='acc')"
   ]
  },
  {
   "cell_type": "code",
   "execution_count": 6,
   "metadata": {},
   "outputs": [],
   "source": [
    "profiles, connections = grid.extract_profiles('catch', grid.acc > 25)"
   ]
  },
  {
   "cell_type": "code",
   "execution_count": 7,
   "metadata": {},
   "outputs": [],
   "source": [
    "geom = grid.extract_river_network('catch', grid.acc > 25)"
   ]
  },
  {
   "cell_type": "markdown",
   "metadata": {},
   "source": [
    "# Advective only"
   ]
  },
  {
   "cell_type": "code",
   "execution_count": 8,
   "metadata": {},
   "outputs": [],
   "source": [
    "dx = 60. * (np.asarray([profile.size for profile in profiles]) + 1)\n",
    "n = max(max(connections.keys()), max(connections.values())) + 1\n",
    "s = np.ones(n)\n",
    "I = np.eye(n)\n",
    "u = np.ones(n)\n",
    "D = 4*np.ones(n)\n",
    "dt = 1\n",
    "I[0, 0] = 0\n",
    "\n",
    "U = np.zeros((n, n))\n",
    "W = np.zeros((n, n))\n",
    "\n",
    "for i, j in connections.items():\n",
    "    # Confirmed as i\n",
    "    U[j, i] = u[i] * dt / dx[i]\n",
    "    W[i, j] = u[i] * dt / dx[i]\n",
    "    \n",
    "V = np.diag(W @ s)\n",
    "\n",
    "X = np.zeros((n, n))\n",
    "\n",
    "for i, j in connections.items():\n",
    "    X[i, j] = 2 / (dx[i] + dx[j])\n",
    "    X[j, i] = 2 / (dx[i] + dx[j])\n",
    "    \n",
    "Y = np.diag(X @ s)\n",
    "\n",
    "Z = np.diag(D * dt / dx)\n",
    "S0 = (U - V) - Z @ (Y - X) + I"
   ]
  },
  {
   "cell_type": "code",
   "execution_count": 9,
   "metadata": {},
   "outputs": [
    {
     "data": {
      "text/plain": [
       "98.81165919282512"
      ]
     },
     "execution_count": 9,
     "metadata": {},
     "output_type": "execute_result"
    }
   ],
   "source": [
    "(u * dx / D).mean()"
   ]
  },
  {
   "cell_type": "code",
   "execution_count": 10,
   "metadata": {},
   "outputs": [
    {
     "data": {
      "text/plain": [
       "(0.0, 0.0, 0.999261974622342, -0.0002801905698907692)"
      ]
     },
     "execution_count": 10,
     "metadata": {},
     "output_type": "execute_result"
    }
   ],
   "source": [
    "np.imag(np.linalg.eig(S0)[0]).max(), np.imag(np.linalg.eig(S0)[0]).min(), np.real(np.linalg.eig(S0)[0]).max(), np.real(np.linalg.eig(S0)[0]).min()"
   ]
  },
  {
   "cell_type": "code",
   "execution_count": 11,
   "metadata": {},
   "outputs": [],
   "source": [
    "W_os = []\n",
    "for i in range(len(S0)):\n",
    "    W_o_i = linalg.solve_discrete_lyapunov(S0.T, I[[i]].T @ I[[i]])\n",
    "    W_os.append(W_o_i)"
   ]
  },
  {
   "cell_type": "code",
   "execution_count": 12,
   "metadata": {},
   "outputs": [],
   "source": [
    "Ws = []\n",
    "ss = []\n",
    "ns = 6\n",
    "\n",
    "for i in range(ns):\n",
    "    rs = np.asarray([np.linalg.matrix_rank(w + sum(Ws)) for w in W_os])\n",
    "    ix = np.argmax(rs)\n",
    "    ss.append(ix)\n",
    "    Ws.append(W_os[ix])"
   ]
  },
  {
   "cell_type": "code",
   "execution_count": 13,
   "metadata": {},
   "outputs": [],
   "source": [
    "W_c = linalg.solve_discrete_lyapunov(S0, I)\n",
    "st = np.argsort(np.diag(W_c))[::-1][:6]"
   ]
  },
  {
   "cell_type": "code",
   "execution_count": 14,
   "metadata": {},
   "outputs": [],
   "source": [
    "ss0 = ss.copy()\n",
    "st0 = st.copy()"
   ]
  },
  {
   "cell_type": "markdown",
   "metadata": {},
   "source": [
    "# Lo Diffusion + advection"
   ]
  },
  {
   "cell_type": "code",
   "execution_count": 15,
   "metadata": {},
   "outputs": [],
   "source": [
    "dx = 60. * (np.asarray([profile.size for profile in profiles]) + 1)\n",
    "n = max(max(connections.keys()), max(connections.values())) + 1\n",
    "s = np.ones(n)\n",
    "I = np.eye(n)\n",
    "u = np.ones(n)\n",
    "D = 40*np.ones(n)\n",
    "dt = 1\n",
    "I[0, 0] = 0\n",
    "\n",
    "U = np.zeros((n, n))\n",
    "W = np.zeros((n, n))\n",
    "\n",
    "for i, j in connections.items():\n",
    "    # Confirmed as i\n",
    "    U[j, i] = u[i] * dt / dx[i]\n",
    "    W[i, j] = u[i] * dt / dx[i]\n",
    "    \n",
    "V = np.diag(W @ s)\n",
    "\n",
    "X = np.zeros((n, n))\n",
    "\n",
    "for i, j in connections.items():\n",
    "    X[i, j] = 2 / (dx[i] + dx[j])\n",
    "    X[j, i] = 2 / (dx[i] + dx[j])\n",
    "    \n",
    "Y = np.diag(X @ s)\n",
    "\n",
    "Z = np.diag(D * dt / dx)\n",
    "S1 = (U - V) - Z @ (Y - X) + I"
   ]
  },
  {
   "cell_type": "code",
   "execution_count": 16,
   "metadata": {},
   "outputs": [
    {
     "data": {
      "text/plain": [
       "9.88116591928251"
      ]
     },
     "execution_count": 16,
     "metadata": {},
     "output_type": "execute_result"
    }
   ],
   "source": [
    "(u * dx / D).mean()"
   ]
  },
  {
   "cell_type": "code",
   "execution_count": 17,
   "metadata": {},
   "outputs": [
    {
     "data": {
      "text/plain": [
       "(0.0, 0.0, 0.9997259569184052, -0.0028089938289308823)"
      ]
     },
     "execution_count": 17,
     "metadata": {},
     "output_type": "execute_result"
    }
   ],
   "source": [
    "np.imag(np.linalg.eig(S1)[0]).max(), np.imag(np.linalg.eig(S1)[0]).min(), np.real(np.linalg.eig(S1)[0]).max(), np.real(np.linalg.eig(S1)[0]).min()"
   ]
  },
  {
   "cell_type": "code",
   "execution_count": 18,
   "metadata": {},
   "outputs": [],
   "source": [
    "W_os = []\n",
    "for i in range(len(S1)):\n",
    "    W_o_i = linalg.solve_discrete_lyapunov(S1.T, I[[i]].T @ I[[i]])\n",
    "    W_os.append(W_o_i)"
   ]
  },
  {
   "cell_type": "code",
   "execution_count": 19,
   "metadata": {},
   "outputs": [],
   "source": [
    "Ws = []\n",
    "ss = []\n",
    "ns = 6\n",
    "\n",
    "for i in range(ns):\n",
    "    rs = np.asarray([np.linalg.matrix_rank(w + sum(Ws)) for w in W_os])\n",
    "    ix = np.argmax(rs)\n",
    "    ss.append(ix)\n",
    "    Ws.append(W_os[ix])"
   ]
  },
  {
   "cell_type": "code",
   "execution_count": 20,
   "metadata": {},
   "outputs": [],
   "source": [
    "W_c = linalg.solve_discrete_lyapunov(S1, I)\n",
    "st = np.argsort(np.diag(W_c))[::-1][:6]"
   ]
  },
  {
   "cell_type": "code",
   "execution_count": 21,
   "metadata": {},
   "outputs": [],
   "source": [
    "ss1 = ss.copy()\n",
    "st1 = st.copy()"
   ]
  },
  {
   "cell_type": "markdown",
   "metadata": {},
   "source": [
    "# Hi Diffusion + advection"
   ]
  },
  {
   "cell_type": "code",
   "execution_count": 22,
   "metadata": {},
   "outputs": [],
   "source": [
    "dx = 60. * (np.asarray([profile.size for profile in profiles]) + 1)\n",
    "n = max(max(connections.keys()), max(connections.values())) + 1\n",
    "s = np.ones(n)\n",
    "I = np.eye(n)\n",
    "u = np.ones(n)\n",
    "D = 400*np.ones(n)\n",
    "dt = 1\n",
    "I[0, 0] = 0\n",
    "\n",
    "U = np.zeros((n, n))\n",
    "W = np.zeros((n, n))\n",
    "\n",
    "for i, j in connections.items():\n",
    "    # Confirmed as i\n",
    "    U[j, i] = u[i] * dt / dx[i]\n",
    "    W[i, j] = u[i] * dt / dx[i]\n",
    "    \n",
    "V = np.diag(W @ s)\n",
    "\n",
    "X = np.zeros((n, n))\n",
    "\n",
    "for i, j in connections.items():\n",
    "    X[i, j] = 2 / (dx[i] + dx[j])\n",
    "    X[j, i] = 2 / (dx[i] + dx[j])\n",
    "    \n",
    "Y = np.diag(X @ s)\n",
    "\n",
    "Z = np.diag(D * dt / dx)\n",
    "S2 = (U - V) - Z @ (Y - X) + I"
   ]
  },
  {
   "cell_type": "code",
   "execution_count": 23,
   "metadata": {},
   "outputs": [
    {
     "data": {
      "text/plain": [
       "0.9881165919282512"
      ]
     },
     "execution_count": 23,
     "metadata": {},
     "output_type": "execute_result"
    }
   ],
   "source": [
    "(u * dx / D).mean()"
   ]
  },
  {
   "cell_type": "code",
   "execution_count": 24,
   "metadata": {},
   "outputs": [
    {
     "data": {
      "text/plain": [
       "(0.0, 0.0, 1.002400833255208, -0.028819584929342393)"
      ]
     },
     "execution_count": 24,
     "metadata": {},
     "output_type": "execute_result"
    }
   ],
   "source": [
    "np.imag(np.linalg.eig(S2)[0]).max(), np.imag(np.linalg.eig(S2)[0]).min(), np.real(np.linalg.eig(S2)[0]).max(), np.real(np.linalg.eig(S2)[0]).min()"
   ]
  },
  {
   "cell_type": "code",
   "execution_count": 25,
   "metadata": {},
   "outputs": [],
   "source": [
    "W_os = []\n",
    "for i in range(len(S2)):\n",
    "    W_o_i = linalg.solve_discrete_lyapunov(S2.T, I[[i]].T @ I[[i]])\n",
    "    W_os.append(W_o_i)"
   ]
  },
  {
   "cell_type": "code",
   "execution_count": 26,
   "metadata": {},
   "outputs": [],
   "source": [
    "Ws = []\n",
    "ss = []\n",
    "ns = 6\n",
    "\n",
    "for i in range(ns):\n",
    "    rs = np.asarray([np.linalg.matrix_rank(w + sum(Ws)) for w in W_os])\n",
    "    ix = np.argmax(rs)\n",
    "    ss.append(ix)\n",
    "    Ws.append(W_os[ix])"
   ]
  },
  {
   "cell_type": "code",
   "execution_count": 27,
   "metadata": {},
   "outputs": [],
   "source": [
    "W_c = linalg.solve_discrete_lyapunov(S2, I)\n",
    "st = np.argsort(np.diag(W_c))[::-1][:6]"
   ]
  },
  {
   "cell_type": "code",
   "execution_count": 28,
   "metadata": {},
   "outputs": [],
   "source": [
    "ss2 = ss.copy()\n",
    "st2 = st.copy()"
   ]
  },
  {
   "cell_type": "code",
   "execution_count": 29,
   "metadata": {},
   "outputs": [],
   "source": [
    "geom2 = grid.extract_river_network('catch', grid.acc > 50)"
   ]
  },
  {
   "cell_type": "code",
   "execution_count": 30,
   "metadata": {},
   "outputs": [],
   "source": [
    "cmap = sns.cubehelix_palette(rot=0.15, start=0, hue=1, gamma=1.5, dark=0.15, light=0.85, as_cmap=True)"
   ]
  },
  {
   "cell_type": "code",
   "execution_count": 31,
   "metadata": {},
   "outputs": [
    {
     "data": {
      "image/png": "[encoded data removed]",
      "text/plain": [
       "<Figure size 720x576 with 6 Axes>"
      ]
     },
     "metadata": {},
     "output_type": "display_data"
    }
   ],
   "source": [
    "fig, ax = plt.subplots(2, 3, figsize=(10,8))\n",
    "\n",
    "for i in range(6):\n",
    "    ax.flat[i].set_facecolor('w')\n",
    "    ax.flat[i].xaxis.set_ticklabels([])\n",
    "    ax.flat[i].yaxis.set_ticklabels([])\n",
    "    \n",
    "segs = [np.asarray(branch['geometry']['coordinates']) for branch in geom2['features']]\n",
    "line_segments = LineCollection(segs, color='k', linewidth=1.0, alpha=0.75)\n",
    "_ = ax.flat[0].add_collection(line_segments)\n",
    "coords = np.asarray([geom['features'][j]['geometry']['coordinates'][0]\n",
    "                     for j in ss0])\n",
    "ax.flat[0].scatter(coords[:,0], coords[:,1], c=np.arange(len(ss0)), zorder=2, cmap='spring_r', s=120, edgecolor='k', linewidth=1)\n",
    "ax.flat[0].imshow(np.where(grid.view('catch'), 1, np.nan), zorder=1, cmap='Greys',\n",
    "             vmin=0, vmax=6, extent=grid.extent, alpha=0.5)\n",
    "ax.flat[0].xaxis.set_ticklabels([])\n",
    "ax.flat[0].yaxis.set_ticklabels([])\n",
    "ax.flat[0].set_xlim(grid.extent[0] - 0.001, grid.extent[1] + 0.001)\n",
    "ax.flat[0].set_ylim(grid.extent[2] - 0.001, grid.extent[3] + 0.003)\n",
    "\n",
    "segs = [np.asarray(branch['geometry']['coordinates']) for branch in geom2['features']]\n",
    "line_segments = LineCollection(segs, color='k', linewidth=1.0, alpha=0.75)\n",
    "_ = ax.flat[1].add_collection(line_segments)\n",
    "coords = np.asarray([geom['features'][j]['geometry']['coordinates'][0]\n",
    "                     for j in ss1])\n",
    "ax.flat[1].scatter(coords[:,0], coords[:,1], c=np.arange(len(ss1)), zorder=2, cmap='spring_r', s=120, edgecolor='k', linewidth=1)\n",
    "ax.flat[1].imshow(np.where(grid.view('catch'), 1, np.nan), zorder=1, cmap='Greys',\n",
    "             vmin=0, vmax=6, extent=grid.extent, alpha=0.5)\n",
    "ax.flat[1].xaxis.set_ticklabels([])\n",
    "ax.flat[1].yaxis.set_ticklabels([])\n",
    "ax.flat[1].set_xlim(grid.extent[0] - 0.001, grid.extent[1] + 0.001)\n",
    "ax.flat[1].set_ylim(grid.extent[2] - 0.001, grid.extent[3] + 0.003)\n",
    "\n",
    "segs = [np.asarray(branch['geometry']['coordinates']) for branch in geom2['features']]\n",
    "line_segments = LineCollection(segs, color='k', linewidth=1.0, alpha=0.75)\n",
    "_ = ax.flat[2].add_collection(line_segments)\n",
    "coords = np.asarray([geom['features'][j]['geometry']['coordinates'][0]\n",
    "                     for j in ss2])\n",
    "ax.flat[2].scatter(coords[:,0], coords[:,1], c=np.arange(len(ss2)), zorder=2, cmap='spring_r', s=120, edgecolor='k', linewidth=1)\n",
    "ax.flat[2].imshow(np.where(grid.view('catch'), 1, np.nan), zorder=1, cmap='Greys',\n",
    "             vmin=0, vmax=6, extent=grid.extent, alpha=0.5)\n",
    "ax.flat[2].xaxis.set_ticklabels([])\n",
    "ax.flat[2].yaxis.set_ticklabels([])\n",
    "ax.flat[2].set_xlim(grid.extent[0] - 0.001, grid.extent[1] + 0.001)\n",
    "ax.flat[2].set_ylim(grid.extent[2] - 0.001, grid.extent[3] + 0.003)\n",
    "\n",
    "segs = [np.asarray(branch['geometry']['coordinates']) for branch in geom2['features']]\n",
    "line_segments = LineCollection(segs, color='k', linewidth=1.0, alpha=0.75)\n",
    "_ = ax.flat[3].add_collection(line_segments)\n",
    "coords = np.asarray([geom['features'][j]['geometry']['coordinates'][0]\n",
    "                     for j in st0])\n",
    "ax.flat[3].scatter(coords[:,0], coords[:,1], c=np.arange(len(st0)), zorder=2, cmap='spring_r', s=120, edgecolor='k', linewidth=1)\n",
    "ax.flat[3].imshow(np.where(grid.view('catch'), 1, np.nan), zorder=1, cmap='Greys',\n",
    "             vmin=0, vmax=6, extent=grid.extent, alpha=0.5)\n",
    "ax.flat[3].xaxis.set_ticklabels([])\n",
    "ax.flat[3].yaxis.set_ticklabels([])\n",
    "ax.flat[3].set_xlim(grid.extent[0] - 0.001, grid.extent[1] + 0.001)\n",
    "ax.flat[3].set_ylim(grid.extent[2] - 0.001, grid.extent[3] + 0.003)\n",
    "\n",
    "segs = [np.asarray(branch['geometry']['coordinates']) for branch in geom2['features']]\n",
    "line_segments = LineCollection(segs, color='k', linewidth=1.0, alpha=0.75)\n",
    "_ = ax.flat[4].add_collection(line_segments)\n",
    "coords = np.asarray([geom['features'][j]['geometry']['coordinates'][0]\n",
    "                     for j in st1])\n",
    "ax.flat[4].scatter(coords[:,0], coords[:,1], c=np.arange(len(st1)), zorder=2, cmap='spring_r', s=120, edgecolor='k', linewidth=1)\n",
    "ax.flat[4].imshow(np.where(grid.view('catch'), 1, np.nan), zorder=1, cmap='Greys',\n",
    "             vmin=0, vmax=6, extent=grid.extent, alpha=0.5)\n",
    "ax.flat[4].xaxis.set_ticklabels([])\n",
    "ax.flat[4].yaxis.set_ticklabels([])\n",
    "ax.flat[4].set_xlim(grid.extent[0] - 0.001, grid.extent[1] + 0.001)\n",
    "ax.flat[4].set_ylim(grid.extent[2] - 0.001, grid.extent[3] + 0.003)\n",
    "\n",
    "segs = [np.asarray(branch['geometry']['coordinates']) for branch in geom2['features']]\n",
    "line_segments = LineCollection(segs, color='k', linewidth=1.0, alpha=0.75)\n",
    "_ = ax.flat[5].add_collection(line_segments)\n",
    "coords = np.asarray([geom['features'][j]['geometry']['coordinates'][0]\n",
    "                     for j in st2])\n",
    "ax.flat[5].scatter(coords[:,0], coords[:,1], c=np.arange(len(st2)), zorder=2, cmap='spring_r', s=120, edgecolor='k', linewidth=1)\n",
    "ax.flat[5].imshow(np.where(grid.view('catch'), 1, np.nan), zorder=1, cmap='Greys',\n",
    "             vmin=0, vmax=6, extent=grid.extent, alpha=0.5)\n",
    "ax.flat[5].xaxis.set_ticklabels([])\n",
    "ax.flat[5].yaxis.set_ticklabels([])\n",
    "ax.flat[5].set_xlim(grid.extent[0] - 0.001, grid.extent[1] + 0.001)\n",
    "ax.flat[5].set_ylim(grid.extent[2] - 0.001, grid.extent[3] + 0.003)\n",
    "\n",
    "ax.flat[0].set_ylabel('Rank-optimized', size=16)\n",
    "ax.flat[3].set_ylabel('Trace-optimized', size=16)\n",
    "\n",
    "ax.flat[0].set_title('$Pe = 100$', size=16)\n",
    "ax.flat[1].set_title('$Pe = 10$', size=16)\n",
    "ax.flat[2].set_title('$Pe = 1$', size=16)\n",
    "\n",
    "plt.tight_layout(pad=2.0, h_pad=-8.0, w_pad=0)\n",
    "#plt.savefig('placements-by-peclet-number.png', bbox_inches='tight')"
   ]
  },
  {
   "cell_type": "code",
   "execution_count": null,
   "metadata": {},
   "outputs": [],
   "source": []
  }
 ],
 "metadata": {
  "kernelspec": {
   "display_name": "Python 3",
   "language": "python",
   "name": "python3"
  },
  "language_info": {
   "codemirror_mode": {
    "name": "ipython",
    "version": 3
   },
   "file_extension": ".py",
   "mimetype": "text/x-python",
   "name": "python",
   "nbconvert_exporter": "python",
   "pygments_lexer": "ipython3",
   "version": "3.6.0"
  }
 },
 "nbformat": 4,
 "nbformat_minor": 2
}
