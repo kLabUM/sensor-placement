{
 "cells": [
  {
   "cell_type": "code",
   "execution_count": 1,
   "metadata": {},
   "outputs": [],
   "source": [
    "import os\n",
    "import sys\n",
    "import time\n",
    "import numpy as np\n",
    "import pandas as pd\n",
    "from scipy import misc\n",
    "import matplotlib.pyplot as plt\n",
    "from scipy import sparse\n",
    "from scipy.sparse import csgraph\n",
    "from scipy import linalg\n",
    "from pysheds.grid import Grid\n",
    "from scipy import ndimage\n",
    "from matplotlib import colors\n",
    "import seaborn as sns\n",
    "\n",
    "import matplotlib\n",
    "import matplotlib.cm as cm\n",
    "from matplotlib.collections import LineCollection\n",
    "import matplotlib.gridspec as gridspec\n",
    "\n",
    "%matplotlib inline"
   ]
  },
  {
   "cell_type": "code",
   "execution_count": 2,
   "metadata": {},
   "outputs": [],
   "source": [
    "sns.set_palette('husl', 2)"
   ]
  },
  {
   "cell_type": "code",
   "execution_count": 3,
   "metadata": {},
   "outputs": [],
   "source": [
    "grid = Grid.from_raster('../data/n30w100_dir',\n",
    "                 data_name='dir')"
   ]
  },
  {
   "cell_type": "code",
   "execution_count": 4,
   "metadata": {},
   "outputs": [],
   "source": [
    "grid.read_raster('../data/n30w100_con',\n",
    "                 data_name='dem')"
   ]
  },
  {
   "cell_type": "code",
   "execution_count": 5,
   "metadata": {},
   "outputs": [],
   "source": [
    "dirmap = (64,  128,  1,   2,    4,   8,    16,  32)\n",
    "\n",
    "# Specify pour point\n",
    "x, y = -97.294167, 32.73750\n",
    "\n",
    "# Delineate the catchment\n",
    "grid.catchment(data='dir', x=x, y=y, dirmap=dirmap, out_name='catch',\n",
    "               recursionlimit=15000, xytype='label')\n",
    "# Clip the bounding box to the catchment\n",
    "grid.clip_to('catch', precision=5)\n",
    "\n",
    "grid.accumulation(data='catch', dirmap=dirmap, pad_inplace=False, out_name='acc')"
   ]
  },
  {
   "cell_type": "code",
   "execution_count": 6,
   "metadata": {},
   "outputs": [],
   "source": [
    "profiles, connections = grid.extract_profiles('catch', grid.acc > 25)"
   ]
  },
  {
   "cell_type": "code",
   "execution_count": 7,
   "metadata": {},
   "outputs": [],
   "source": [
    "geom = grid.extract_river_network('catch', grid.acc > 25)"
   ]
  },
  {
   "cell_type": "markdown",
   "metadata": {},
   "source": [
    "# Lo Diffusion + advection"
   ]
  },
  {
   "cell_type": "code",
   "execution_count": 8,
   "metadata": {},
   "outputs": [],
   "source": [
    "dx = 60. * (np.asarray([profile.size for profile in profiles]) + 1)\n",
    "n = max(max(connections.keys()), max(connections.values())) + 1\n",
    "s = np.ones(n)\n",
    "I = np.eye(n)\n",
    "u = 1.0*np.ones(n)\n",
    "D = (u * dx / 10).mean()*np.ones(n)\n",
    "dt = 1\n",
    "I[0, 0] = 0\n",
    "\n",
    "U = np.zeros((n, n))\n",
    "W = np.zeros((n, n))\n",
    "\n",
    "for i, j in connections.items():\n",
    "    # Confirmed as i\n",
    "    U[j, i] = u[i] * dt / dx[i]\n",
    "    W[i, j] = u[i] * dt / dx[i]\n",
    "    \n",
    "V = np.diag(W @ s)\n",
    "\n",
    "X = np.zeros((n, n))\n",
    "\n",
    "for i, j in connections.items():\n",
    "    X[i, j] = 2 / (dx[i] + dx[j])\n",
    "    X[j, i] = 2 / (dx[i] + dx[j])\n",
    "    \n",
    "Y = np.diag(X @ s)\n",
    "\n",
    "Z = np.diag(D * dt / dx)\n",
    "S = (U - V) - Z @ (Y - X) + I"
   ]
  },
  {
   "cell_type": "code",
   "execution_count": 9,
   "metadata": {},
   "outputs": [
    {
     "data": {
      "text/plain": [
       "(0.0, 0.0, 0.9997196165216445, -0.0027755206889173286)"
      ]
     },
     "execution_count": 9,
     "metadata": {},
     "output_type": "execute_result"
    }
   ],
   "source": [
    "np.imag(np.linalg.eig(S)[0]).max(), np.imag(np.linalg.eig(S)[0]).min(), np.real(np.linalg.eig(S)[0]).max(), np.real(np.linalg.eig(S)[0]).min()"
   ]
  },
  {
   "cell_type": "code",
   "execution_count": 10,
   "metadata": {},
   "outputs": [],
   "source": [
    "C = np.eye(n)\n",
    "ns = 11"
   ]
  },
  {
   "cell_type": "code",
   "execution_count": 11,
   "metadata": {},
   "outputs": [],
   "source": [
    "W_c = linalg.solve_discrete_lyapunov(S, C)\n",
    "st = np.argsort(np.diag(W_c))[::-1][:ns]"
   ]
  },
  {
   "cell_type": "code",
   "execution_count": 12,
   "metadata": {},
   "outputs": [],
   "source": [
    "W_o = linalg.solve_discrete_lyapunov(S.T, C)"
   ]
  },
  {
   "cell_type": "code",
   "execution_count": 13,
   "metadata": {},
   "outputs": [],
   "source": [
    "np.random.seed(0)\n",
    "x0 = np.ones(S.shape[0])"
   ]
  },
  {
   "cell_type": "code",
   "execution_count": 14,
   "metadata": {},
   "outputs": [],
   "source": [
    "from numba import njit"
   ]
  },
  {
   "cell_type": "code",
   "execution_count": 15,
   "metadata": {},
   "outputs": [],
   "source": [
    "sr = np.asarray([  1, 128, 136,  52,  64,  92, 194,   9, 143, 161, 191,  13,  71,\n",
    "       15, 125,  77, 141, 198,  58, 150, 102,  12,  88, 164, 204,   2,\n",
    "       70,  87, 159, 177, 197,  22])"
   ]
  },
  {
   "cell_type": "code",
   "execution_count": 16,
   "metadata": {},
   "outputs": [],
   "source": [
    "st = np.asarray([  5,   8,  14,  42,  26,  76,  51,  89,  45,  55,  63,  83,  28,\n",
    "                   1,  65,  85, 104,  93, 103, 121, 115,  13,  11, 140,   9, 194,\n",
    "                 107,   6,  71,  64,  31,  40])"
   ]
  },
  {
   "cell_type": "code",
   "execution_count": 17,
   "metadata": {},
   "outputs": [],
   "source": [
    "@njit(fastmath=True)\n",
    "def compute_multi_x0s(X0, S, C, T):\n",
    "    Ac = np.eye(S.shape[0])\n",
    "    Wo_r = np.zeros(S.shape)\n",
    "    R_r = np.zeros(X0.shape)\n",
    "    X0_hat = np.zeros(X0.shape)\n",
    "    m = X0.shape[0]\n",
    "    for _ in range(T):\n",
    "        AC = C @ Ac\n",
    "        Wo_r += (AC.T @ AC)\n",
    "        for i in range(m):\n",
    "            y = AC @ X0[i]\n",
    "            R_r[i] += (AC.T @ y)\n",
    "        Ac = S @ Ac\n",
    "    Wo_r_inv = np.linalg.pinv(Wo_r)\n",
    "    for i in range(m):\n",
    "        X0_hat[i] = (Wo_r_inv @ R_r[i])\n",
    "    return X0_hat"
   ]
  },
  {
   "cell_type": "code",
   "execution_count": 18,
   "metadata": {},
   "outputs": [],
   "source": [
    "C = np.eye(S.shape[0])[sr[:11]]\n",
    "X0 = np.vstack([x0, x0, x0, x0])"
   ]
  },
  {
   "cell_type": "code",
   "execution_count": 19,
   "metadata": {},
   "outputs": [
    {
     "name": "stdout",
     "output_type": "stream",
     "text": [
      "CPU times: user 24.9 s, sys: 6.35 s, total: 31.3 s\n",
      "Wall time: 7.74 s\n"
     ]
    }
   ],
   "source": [
    "%time x0_hats = compute_multi_x0s(X0, S, C, 4000)"
   ]
  },
  {
   "cell_type": "code",
   "execution_count": 20,
   "metadata": {},
   "outputs": [],
   "source": [
    "Adj = np.zeros((n, n))\n",
    "\n",
    "for i, j in connections.items():\n",
    "    # Confirmed as i\n",
    "    Adj[j, i] = 1\n",
    "    Adj[i, j] = 1\n",
    "    \n",
    "Lap = sparse.csgraph.laplacian(Adj)"
   ]
  },
  {
   "cell_type": "code",
   "execution_count": 21,
   "metadata": {},
   "outputs": [],
   "source": [
    "L, U = np.linalg.eigh(Lap)\n",
    "ghat = np.exp(-100*L)"
   ]
  },
  {
   "cell_type": "code",
   "execution_count": 22,
   "metadata": {},
   "outputs": [],
   "source": [
    "np.random.seed(0)\n",
    "trials = 200\n",
    "\n",
    "T = np.random.choice(len(U), size=trials, replace=False)\n",
    "ghat = [np.exp(np.minimum((100*np.random.randn() - 100), -1)*L) for _ in range(trials)]"
   ]
  },
  {
   "cell_type": "code",
   "execution_count": 23,
   "metadata": {},
   "outputs": [],
   "source": [
    "X0 = np.vstack([(U @ np.diag(ghat[i]) @ U[T[i]]).ravel() for i in range(trials)])"
   ]
  },
  {
   "cell_type": "code",
   "execution_count": 24,
   "metadata": {},
   "outputs": [],
   "source": [
    "X0 = X0 / np.linalg.norm(X0, axis=1).reshape(-1, 1)"
   ]
  },
  {
   "cell_type": "code",
   "execution_count": 25,
   "metadata": {},
   "outputs": [
    {
     "name": "stdout",
     "output_type": "stream",
     "text": [
      "7.578350305557251  s\n"
     ]
    }
   ],
   "source": [
    "start = time.time()\n",
    "x0_hats = compute_multi_x0s(X0, S, C, 4000)\n",
    "end = time.time()\n",
    "print(end - start, ' s')"
   ]
  },
  {
   "cell_type": "markdown",
   "metadata": {},
   "source": [
    "# Rank-based"
   ]
  },
  {
   "cell_type": "code",
   "execution_count": 27,
   "metadata": {},
   "outputs": [
    {
     "name": "stdout",
     "output_type": "stream",
     "text": [
      "1:  5.1121721267700195  s\n",
      "2:  5.3809874057769775  s\n",
      "3:  5.641917705535889  s\n",
      "4:  5.6179234981536865  s\n",
      "5:  5.950946092605591  s\n",
      "6:  6.240763187408447  s\n",
      "7:  6.349416971206665  s\n",
      "8:  6.354503154754639  s\n",
      "9:  6.546662092208862  s\n",
      "10:  6.665334463119507  s\n",
      "11:  6.919095277786255  s\n",
      "12:  6.893658638000488  s\n",
      "13:  7.050539016723633  s\n",
      "14:  7.338671922683716  s\n",
      "15:  7.4246931076049805  s\n",
      "16:  7.550046920776367  s\n",
      "17:  7.98766827583313  s\n",
      "18:  8.033258199691772  s\n",
      "19:  8.168648719787598  s\n",
      "20:  8.209306955337524  s\n",
      "21:  8.657029628753662  s\n",
      "22:  8.811021566390991  s\n",
      "23:  8.916736602783203  s\n",
      "24:  9.077987670898438  s\n",
      "25:  9.306634902954102  s\n",
      "26:  9.581563949584961  s\n",
      "27:  9.779516696929932  s\n",
      "28:  9.759276866912842  s\n",
      "29:  9.947666645050049  s\n",
      "30:  10.096765995025635  s\n",
      "31:  10.318551063537598  s\n",
      "Total:  239.71022605895996  s\n"
     ]
    }
   ],
   "source": [
    "C = np.eye(len(S))\n",
    "X0_hats_r = {}\n",
    "\n",
    "first_start = time.time()\n",
    "\n",
    "for i in range(1, len(sr)):\n",
    "    sensors = sr[:i].tolist()\n",
    "    Ci = C[sensors]\n",
    "    start = time.time()\n",
    "    x0_hats_i = compute_multi_x0s(X0, S, Ci, 3600)\n",
    "    end = time.time()\n",
    "    print(f'{i}: ', end - start, ' s')\n",
    "    X0_hats_r[i] = x0_hats_i\n",
    "    \n",
    "print('Total: ', end - first_start, ' s')"
   ]
  },
  {
   "cell_type": "markdown",
   "metadata": {},
   "source": [
    "# Trace-based"
   ]
  },
  {
   "cell_type": "code",
   "execution_count": 28,
   "metadata": {},
   "outputs": [
    {
     "name": "stdout",
     "output_type": "stream",
     "text": [
      "1:  5.112292528152466  s\n",
      "2:  5.364452123641968  s\n",
      "3:  5.665099859237671  s\n",
      "4:  5.6110382080078125  s\n",
      "5:  5.91336727142334  s\n",
      "6:  6.19813084602356  s\n",
      "7:  6.333972692489624  s\n",
      "8:  6.629284858703613  s\n",
      "9:  6.514134407043457  s\n",
      "10:  6.578885555267334  s\n",
      "11:  6.7913689613342285  s\n",
      "12:  6.865018606185913  s\n",
      "13:  7.0033485889434814  s\n",
      "14:  7.234812259674072  s\n",
      "15:  7.391557216644287  s\n",
      "16:  7.614781856536865  s\n",
      "17:  7.572826862335205  s\n",
      "18:  7.950587511062622  s\n",
      "19:  8.108787775039673  s\n",
      "20:  8.15208387374878  s\n",
      "21:  8.627467393875122  s\n",
      "22:  8.617995738983154  s\n",
      "23:  8.965798139572144  s\n",
      "24:  9.000434637069702  s\n",
      "25:  9.288678169250488  s\n",
      "26:  9.469580888748169  s\n",
      "27:  9.669687509536743  s\n",
      "28:  9.693897485733032  s\n",
      "29:  9.832557678222656  s\n",
      "30:  9.990066289901733  s\n",
      "31:  10.229069471359253  s\n",
      "Total:  238.01189017295837  s\n"
     ]
    }
   ],
   "source": [
    "C = np.eye(len(S))\n",
    "X0_hats_t = {}\n",
    "\n",
    "first_start = time.time()\n",
    "\n",
    "for i in range(1, len(st)):\n",
    "    sensors = st[:i].tolist()\n",
    "    Ci = C[sensors]\n",
    "    start = time.time()\n",
    "    x0_hats_i = compute_multi_x0s(X0, S, Ci, 3600)\n",
    "    end = time.time()\n",
    "    print(f'{i}: ', end - start, ' s')\n",
    "    X0_hats_t[i] = x0_hats_i\n",
    "    \n",
    "print('Total: ', end - first_start, ' s')"
   ]
  },
  {
   "cell_type": "markdown",
   "metadata": {},
   "source": [
    "# Random placement"
   ]
  },
  {
   "cell_type": "code",
   "execution_count": 29,
   "metadata": {},
   "outputs": [],
   "source": [
    "np.random.seed(0)\n",
    "sss = [np.random.choice(np.arange(1, len(Adj)), size=len(sr), replace=False) for _ in range(10)]"
   ]
  },
  {
   "cell_type": "code",
   "execution_count": 30,
   "metadata": {},
   "outputs": [
    {
     "name": "stdout",
     "output_type": "stream",
     "text": [
      "0\n",
      "1:  5.1068737506866455  s\n",
      "2:  5.344251871109009  s\n",
      "3:  5.665699005126953  s\n",
      "4:  5.648569583892822  s\n",
      "5:  5.924322128295898  s\n",
      "6:  6.132441520690918  s\n",
      "7:  6.259803771972656  s\n",
      "8:  6.294262409210205  s\n",
      "9:  6.580387592315674  s\n",
      "10:  6.71566104888916  s\n",
      "11:  6.877215147018433  s\n",
      "12:  6.943089246749878  s\n",
      "13:  7.028927564620972  s\n",
      "14:  7.265291452407837  s\n",
      "15:  7.45820164680481  s\n",
      "16:  7.455518007278442  s\n",
      "17:  7.618298530578613  s\n",
      "18:  8.113157749176025  s\n",
      "19:  8.314273595809937  s\n",
      "20:  8.220126628875732  s\n",
      "21:  8.595333337783813  s\n",
      "22:  8.613725900650024  s\n",
      "23:  8.74030089378357  s\n",
      "24:  8.827283382415771  s\n",
      "25:  8.963917016983032  s\n",
      "26:  9.32174015045166  s\n",
      "27:  9.433807373046875  s\n",
      "28:  9.646707534790039  s\n",
      "29:  9.625866174697876  s\n",
      "30:  10.03391718864441  s\n",
      "31:  10.081382274627686  s\n",
      "Total:  236.8705871105194  s\n",
      "1\n",
      "1:  5.204493999481201  s\n",
      "2:  5.3471620082855225  s\n",
      "3:  5.6803412437438965  s\n",
      "4:  5.658367156982422  s\n",
      "5:  5.951849937438965  s\n",
      "6:  6.121683835983276  s\n",
      "7:  6.310284614562988  s\n",
      "8:  6.310772180557251  s\n",
      "9:  6.604864597320557  s\n",
      "10:  6.727688312530518  s\n",
      "11:  7.050634145736694  s\n",
      "12:  7.147385835647583  s\n",
      "13:  7.127273321151733  s\n",
      "14:  7.254412651062012  s\n",
      "15:  7.454774618148804  s\n",
      "16:  7.422966480255127  s\n",
      "17:  7.596054315567017  s\n",
      "18:  7.977411270141602  s\n",
      "19:  8.30255651473999  s\n",
      "20:  8.2606782913208  s\n",
      "21:  8.484519243240356  s\n",
      "22:  8.560703992843628  s\n",
      "23:  8.729224443435669  s\n",
      "24:  8.80261492729187  s\n",
      "25:  8.951398372650146  s\n",
      "26:  9.302687168121338  s\n",
      "27:  9.315242290496826  s\n",
      "28:  9.575350999832153  s\n",
      "29:  9.588465690612793  s\n",
      "30:  9.955313920974731  s\n",
      "31:  10.03371262550354  s\n",
      "Total:  236.83304810523987  s\n",
      "2\n",
      "1:  5.065712928771973  s\n",
      "2:  5.505207300186157  s\n",
      "3:  5.638092517852783  s\n",
      "4:  5.857690334320068  s\n",
      "5:  5.965526342391968  s\n",
      "6:  6.117178440093994  s\n",
      "7:  6.280354261398315  s\n",
      "8:  6.285970449447632  s\n",
      "9:  6.5715508460998535  s\n",
      "10:  6.734146356582642  s\n",
      "11:  6.817490100860596  s\n",
      "12:  6.886396169662476  s\n",
      "13:  7.06666898727417  s\n",
      "14:  7.232988595962524  s\n",
      "15:  7.372491836547852  s\n",
      "16:  7.427835702896118  s\n",
      "17:  7.611446380615234  s\n",
      "18:  7.967728614807129  s\n",
      "19:  8.260988473892212  s\n",
      "20:  8.173080205917358  s\n",
      "21:  8.404385089874268  s\n",
      "22:  8.518471479415894  s\n",
      "23:  8.73450756072998  s\n",
      "24:  8.80063247680664  s\n",
      "25:  8.947880268096924  s\n",
      "26:  10.6627779006958  s\n",
      "27:  9.526898384094238  s\n",
      "28:  9.555967092514038  s\n",
      "29:  9.614274978637695  s\n",
      "30:  9.947882175445557  s\n",
      "31:  10.064523935317993  s\n",
      "Total:  237.6407608985901  s\n",
      "3\n",
      "1:  5.0876240730285645  s\n",
      "2:  5.486286878585815  s\n",
      "3:  5.663891315460205  s\n",
      "4:  5.686394214630127  s\n",
      "5:  5.9407665729522705  s\n",
      "6:  6.152293682098389  s\n",
      "7:  6.307246923446655  s\n",
      "8:  6.278219223022461  s\n",
      "9:  6.637724876403809  s\n",
      "10:  6.728374242782593  s\n",
      "11:  6.8566906452178955  s\n",
      "12:  6.866320371627808  s\n",
      "13:  7.075663089752197  s\n",
      "14:  7.292418003082275  s\n",
      "15:  7.445415019989014  s\n",
      "16:  7.4219231605529785  s\n",
      "17:  7.644681453704834  s\n",
      "18:  8.015662431716919  s\n",
      "19:  8.21388864517212  s\n",
      "20:  8.298106670379639  s\n",
      "21:  8.50168490409851  s\n",
      "22:  8.609836339950562  s\n",
      "23:  8.795027256011963  s\n",
      "24:  8.808582544326782  s\n",
      "25:  9.004658460617065  s\n",
      "26:  9.346755743026733  s\n",
      "27:  9.355137586593628  s\n",
      "28:  9.556372165679932  s\n",
      "29:  9.677825212478638  s\n",
      "30:  9.96940565109253  s\n",
      "31:  10.099663972854614  s\n",
      "Total:  236.84745812416077  s\n",
      "4\n",
      "1:  5.082633018493652  s\n",
      "2:  5.379830598831177  s\n",
      "3:  5.820446968078613  s\n",
      "4:  5.613724946975708  s\n",
      "5:  6.158263206481934  s\n",
      "6:  6.177683591842651  s\n",
      "7:  6.3480634689331055  s\n",
      "8:  6.3408660888671875  s\n",
      "9:  6.592372179031372  s\n",
      "10:  6.761277437210083  s\n",
      "11:  6.864324331283569  s\n",
      "12:  6.905664920806885  s\n",
      "13:  7.0292510986328125  s\n",
      "14:  7.445341348648071  s\n",
      "15:  7.43199896812439  s\n",
      "16:  7.422277212142944  s\n",
      "17:  7.6408069133758545  s\n",
      "18:  8.020085334777832  s\n",
      "19:  8.240766286849976  s\n",
      "20:  8.438459873199463  s\n",
      "21:  8.522037506103516  s\n",
      "22:  8.697608709335327  s\n",
      "23:  8.91017484664917  s\n",
      "24:  8.869864463806152  s\n",
      "25:  9.088731527328491  s\n",
      "26:  9.31394910812378  s\n",
      "27:  9.600744485855103  s\n",
      "28:  9.558177709579468  s\n",
      "29:  9.691463947296143  s\n",
      "30:  9.883196592330933  s\n",
      "31:  10.167048931121826  s\n",
      "Total:  238.03845047950745  s\n",
      "5\n",
      "1:  5.055840492248535  s\n",
      "2:  5.370306491851807  s\n",
      "3:  5.740793943405151  s\n",
      "4:  5.649973392486572  s\n",
      "5:  5.979736566543579  s\n",
      "6:  6.0952136516571045  s\n",
      "7:  6.277939319610596  s\n",
      "8:  6.317598342895508  s\n",
      "9:  6.56243109703064  s\n",
      "10:  6.734124660491943  s\n",
      "11:  6.909397602081299  s\n",
      "12:  7.73997688293457  s\n",
      "13:  7.0623204708099365  s\n",
      "14:  7.264445781707764  s\n",
      "15:  7.415925741195679  s\n",
      "16:  7.449561834335327  s\n",
      "17:  7.657815456390381  s\n",
      "18:  8.005637884140015  s\n",
      "19:  8.213189840316772  s\n",
      "20:  8.190414428710938  s\n",
      "21:  8.597916603088379  s\n",
      "22:  8.610580921173096  s\n",
      "23:  8.877021789550781  s\n",
      "24:  8.895546913146973  s\n",
      "25:  9.128133296966553  s\n",
      "26:  9.52143383026123  s\n",
      "27:  9.671149253845215  s\n",
      "28:  9.570810317993164  s\n",
      "29:  9.803674936294556  s\n",
      "30:  10.032197952270508  s\n",
      "31:  10.184051036834717  s\n",
      "Total:  238.60597848892212  s\n",
      "6\n",
      "1:  5.049093723297119  s\n",
      "2:  5.383708715438843  s\n",
      "3:  5.633422136306763  s\n",
      "4:  5.748681545257568  s\n",
      "5:  5.970364332199097  s\n",
      "6:  6.104828357696533  s\n",
      "7:  6.269621133804321  s\n",
      "8:  6.277136325836182  s\n",
      "9:  6.613160610198975  s\n",
      "10:  6.72282338142395  s\n",
      "11:  6.887619972229004  s\n",
      "12:  6.914998292922974  s\n",
      "13:  7.069433927536011  s\n",
      "14:  7.229110479354858  s\n",
      "15:  7.418751239776611  s\n",
      "16:  7.487064838409424  s\n",
      "17:  7.656570911407471  s\n",
      "18:  7.979071140289307  s\n",
      "19:  8.219858169555664  s\n",
      "20:  8.264001846313477  s\n",
      "21:  8.719582319259644  s\n",
      "22:  8.685269832611084  s\n",
      "23:  8.904160499572754  s\n",
      "24:  8.826698303222656  s\n",
      "25:  9.094364166259766  s\n",
      "26:  9.306955575942993  s\n",
      "27:  9.500600337982178  s\n",
      "28:  10.047324419021606  s\n",
      "29:  9.771656274795532  s\n",
      "30:  9.853611469268799  s\n",
      "31:  10.206281185150146  s\n",
      "Total:  237.83563470840454  s\n",
      "7\n",
      "1:  5.099690914154053  s\n",
      "2:  5.363833427429199  s\n",
      "3:  5.730312824249268  s\n",
      "4:  5.777721881866455  s\n",
      "5:  5.942863702774048  s\n",
      "6:  6.190797805786133  s\n",
      "7:  6.314388751983643  s\n",
      "8:  6.374037742614746  s\n",
      "9:  6.635345220565796  s\n",
      "10:  6.707812547683716  s\n",
      "11:  6.886773586273193  s\n",
      "12:  6.949347019195557  s\n",
      "13:  7.144176959991455  s\n",
      "14:  7.574778318405151  s\n",
      "15:  7.450649261474609  s\n",
      "16:  7.472507953643799  s\n",
      "17:  7.636882543563843  s\n",
      "18:  8.554117918014526  s\n",
      "19:  8.161234617233276  s\n",
      "20:  8.268818616867065  s\n",
      "21:  8.55905270576477  s\n",
      "22:  8.599189043045044  s\n",
      "23:  8.887191772460938  s\n",
      "24:  8.822629928588867  s\n",
      "25:  9.066885232925415  s\n",
      "26:  9.289348125457764  s\n",
      "27:  9.443362474441528  s\n",
      "28:  9.503817319869995  s\n",
      "29:  9.772633075714111  s\n",
      "30:  9.861708402633667  s\n",
      "31:  10.20543122291565  s\n",
      "Total:  238.26809191703796  s\n",
      "8\n",
      "1:  5.078605651855469  s\n",
      "2:  5.353610277175903  s\n",
      "3:  5.659271240234375  s\n",
      "4:  5.609315633773804  s\n",
      "5:  6.036458253860474  s\n",
      "6:  6.1449737548828125  s\n",
      "7:  6.310693264007568  s\n",
      "8:  6.325611352920532  s\n",
      "9:  6.556455373764038  s\n",
      "10:  6.700117349624634  s\n",
      "11:  6.896385669708252  s\n",
      "12:  6.849047422409058  s\n",
      "13:  7.056180953979492  s\n",
      "14:  7.300547122955322  s\n",
      "15:  7.506621837615967  s\n",
      "16:  7.4417524337768555  s\n",
      "17:  7.630491495132446  s\n",
      "18:  8.024821758270264  s\n",
      "19:  8.206254959106445  s\n",
      "20:  8.250849723815918  s\n",
      "21:  8.436872243881226  s\n",
      "22:  8.691635131835938  s\n",
      "23:  8.826570510864258  s\n",
      "24:  8.787696599960327  s\n",
      "25:  9.057495832443237  s\n",
      "26:  9.553737878799438  s\n",
      "27:  9.461374044418335  s\n",
      "28:  9.515013456344604  s\n",
      "29:  9.711670398712158  s\n",
      "30:  9.88009762763977  s\n",
      "31:  10.1786367893219  s\n",
      "Total:  237.06027936935425  s\n",
      "9\n",
      "1:  5.044243335723877  s\n",
      "2:  5.384219646453857  s\n",
      "3:  5.651083469390869  s\n",
      "4:  5.625951528549194  s\n",
      "5:  5.927175283432007  s\n",
      "6:  7.331617116928101  s\n",
      "7:  6.411115407943726  s\n",
      "8:  6.340997934341431  s\n",
      "9:  6.579941272735596  s\n",
      "10:  6.7287678718566895  s\n",
      "11:  7.0627665519714355  s\n",
      "12:  6.906999588012695  s\n",
      "13:  7.0869834423065186  s\n",
      "14:  7.292341947555542  s\n",
      "15:  7.450445890426636  s\n",
      "16:  7.4576849937438965  s\n",
      "17:  7.658304691314697  s\n",
      "18:  8.037019729614258  s\n",
      "19:  8.158921957015991  s\n",
      "20:  8.175502300262451  s\n",
      "21:  8.526304483413696  s\n",
      "22:  8.775851249694824  s\n",
      "23:  8.92983341217041  s\n",
      "24:  8.840498924255371  s\n",
      "25:  9.06445837020874  s\n",
      "26:  9.345515012741089  s\n",
      "27:  9.435624599456787  s\n",
      "28:  9.861303806304932  s\n",
      "29:  9.70535683631897  s\n",
      "30:  9.816447019577026  s\n",
      "31:  10.174489259719849  s\n",
      "Total:  238.80931735038757  s\n"
     ]
    }
   ],
   "source": [
    "C = np.eye(len(S))\n",
    "X0_hats_U = []\n",
    "\n",
    "for it, ss in enumerate(sss[:]):\n",
    "    first_start = time.time()\n",
    "    X0_hats_ui = {}\n",
    "    print(it)\n",
    "    for i in range(1, len(ss)):\n",
    "        sensors = ss[:i].tolist()\n",
    "        Ci = C[sensors]\n",
    "        start = time.time()\n",
    "        x0_hats_i = compute_multi_x0s(X0, S, Ci, 3600)\n",
    "        end = time.time()\n",
    "        print(f'{i}: ', end - start, ' s')\n",
    "        X0_hats_ui[i] = x0_hats_i\n",
    "    print('Total: ', end - first_start, ' s')\n",
    "    X0_hats_U.append(X0_hats_ui)"
   ]
  },
  {
   "cell_type": "code",
   "execution_count": 31,
   "metadata": {},
   "outputs": [],
   "source": [
    "mse_by_num_sensors_r = np.asarray([((X0_hats_r[i] - X0)**2).sum() / trials for i in range(1, 32)])\n",
    "mse_by_num_sensors_t = np.asarray([((X0_hats_t[i] - X0)**2).sum() / trials for i in range(1, 32)])\n",
    "mse_by_num_sensors_U = [np.asarray([((X0_hats_u[i] - X0)**2).sum() / trials for i in range(1, 32)])\n",
    "                        for X0_hats_u in X0_hats_U]"
   ]
  },
  {
   "cell_type": "code",
   "execution_count": 33,
   "metadata": {},
   "outputs": [],
   "source": [
    "sns.set()"
   ]
  },
  {
   "cell_type": "code",
   "execution_count": 48,
   "metadata": {},
   "outputs": [
    {
     "data": {
      "image/png": "[encoded data removed]",
      "text/plain": [
       "<Figure size 720x288 with 2 Axes>"
      ]
     },
     "metadata": {},
     "output_type": "display_data"
    }
   ],
   "source": [
    "fig, ax = plt.subplots(1, 2, figsize=(10, 4))\n",
    "\n",
    "ax[0].plot(np.arange(1, 32), mse_by_num_sensors_U[0], label='randomized', c='0.5', alpha=0.35)\n",
    "for mse_by_num_sensors_u in mse_by_num_sensors_U[1:]:\n",
    "    ax[0].plot(np.arange(1, 32), mse_by_num_sensors_u, c='0.5', alpha=0.35)\n",
    "ax[0].plot(np.arange(1, 32), mse_by_num_sensors_r, label='rank-based', c='red')\n",
    "ax[0].plot(np.arange(1, 32), mse_by_num_sensors_t, label='trace-based', c='blue')\n",
    "\n",
    "ax[0].set_xlabel('Number of sensors')\n",
    "ax[0].set_ylabel('Mean squared error')\n",
    "ax[0].set_title('Reconstruction error vs. number of sensors')\n",
    "ax[0].legend()\n",
    "\n",
    "ax[1].plot(np.arange(1, 32), np.log10(mse_by_num_sensors_U[0]), label='randomized', c='0.5', alpha=0.35)\n",
    "for mse_by_num_sensors_u in mse_by_num_sensors_U[1:]:\n",
    "    ax[1].plot(np.arange(1, 32), np.log10(mse_by_num_sensors_u), c='0.5', alpha=0.35)\n",
    "ax[1].plot(np.arange(1, 32), np.log10(mse_by_num_sensors_r), label='rank-based', c='red')\n",
    "ax[1].plot(np.arange(1, 32), np.log10(mse_by_num_sensors_t), label='trace-based', c='blue')\n",
    "\n",
    "ax[1].set_xlabel('Number of sensors')\n",
    "ax[1].set_ylabel('Log of mean squared error')\n",
    "ax[1].set_title('Log reconstruction error vs. number of sensors')\n",
    "ax[1].legend()\n",
    "plt.tight_layout()"
   ]
  },
  {
   "cell_type": "code",
   "execution_count": 41,
   "metadata": {},
   "outputs": [],
   "source": [
    "std_by_num_sensors_r = np.asarray([((X0_hats_r[i] - X0)).std() for i in range(1, 32)])\n",
    "std_by_num_sensors_t = np.asarray([((X0_hats_t[i] - X0)).std() for i in range(1, 32)])\n",
    "std_by_num_sensors_u0 = np.asarray([((X0_hats_U[0][i] - X0)).std() for i in range(1, 32)])"
   ]
  },
  {
   "cell_type": "code",
   "execution_count": 36,
   "metadata": {},
   "outputs": [],
   "source": [
    "import pickle"
   ]
  },
  {
   "cell_type": "code",
   "execution_count": 37,
   "metadata": {},
   "outputs": [],
   "source": [
    "with open('X0_hat_r.p', 'wb') as outfile:\n",
    "    pickle.dump(X0_hats_r, outfile)"
   ]
  },
  {
   "cell_type": "code",
   "execution_count": 38,
   "metadata": {},
   "outputs": [],
   "source": [
    "with open('X0_hat_t.p', 'wb') as outfile:\n",
    "    pickle.dump(X0_hats_t, outfile)"
   ]
  },
  {
   "cell_type": "code",
   "execution_count": 39,
   "metadata": {},
   "outputs": [],
   "source": [
    "for i in range(len(X0_hats_U)):\n",
    "    with open(f'X0_hat_u{i}.p', 'wb') as outfile:\n",
    "        pickle.dump(X0_hats_U[i], outfile)"
   ]
  },
  {
   "cell_type": "code",
   "execution_count": null,
   "metadata": {},
   "outputs": [],
   "source": []
  }
 ],
 "metadata": {
  "kernelspec": {
   "display_name": "Python 3",
   "language": "python",
   "name": "python3"
  },
  "language_info": {
   "codemirror_mode": {
    "name": "ipython",
    "version": 3
   },
   "file_extension": ".py",
   "mimetype": "text/x-python",
   "name": "python",
   "nbconvert_exporter": "python",
   "pygments_lexer": "ipython3",
   "version": "3.6.0"
  }
 },
 "nbformat": 4,
 "nbformat_minor": 4
}
