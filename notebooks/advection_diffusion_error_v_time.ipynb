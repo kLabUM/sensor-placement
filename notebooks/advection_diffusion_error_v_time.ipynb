{
 "cells": [
  {
   "cell_type": "code",
   "execution_count": 1,
   "metadata": {},
   "outputs": [],
   "source": [
    "import os\n",
    "import sys\n",
    "import numpy as np\n",
    "import pandas as pd\n",
    "from scipy import misc\n",
    "import matplotlib.pyplot as plt\n",
    "from scipy import sparse\n",
    "from scipy.sparse import csgraph\n",
    "from scipy import linalg\n",
    "from pysheds.grid import Grid\n",
    "from scipy import ndimage\n",
    "from matplotlib import colors\n",
    "import seaborn as sns\n",
    "\n",
    "import matplotlib\n",
    "import matplotlib.cm as cm\n",
    "from matplotlib.collections import LineCollection\n",
    "import matplotlib.gridspec as gridspec\n",
    "\n",
    "%matplotlib inline"
   ]
  },
  {
   "cell_type": "code",
   "execution_count": 2,
   "metadata": {},
   "outputs": [],
   "source": [
    "sns.set_palette('husl', 2)"
   ]
  },
  {
   "cell_type": "code",
   "execution_count": 3,
   "metadata": {},
   "outputs": [],
   "source": [
    "grid = Grid.from_raster('/home/mdbartos/Downloads/n30w100_dir/n30w100_dir',\n",
    "                 data_name='dir')"
   ]
  },
  {
   "cell_type": "code",
   "execution_count": 4,
   "metadata": {},
   "outputs": [],
   "source": [
    "grid.read_raster('/home/mdbartos/Downloads/n30w100_con/n30w100_con',\n",
    "                 data_name='dem')"
   ]
  },
  {
   "cell_type": "code",
   "execution_count": 5,
   "metadata": {},
   "outputs": [],
   "source": [
    "dirmap = (64,  128,  1,   2,    4,   8,    16,  32)\n",
    "\n",
    "# Specify pour point\n",
    "x, y = -97.294167, 32.73750\n",
    "\n",
    "# Delineate the catchment\n",
    "grid.catchment(data='dir', x=x, y=y, dirmap=dirmap, out_name='catch',\n",
    "               recursionlimit=15000, xytype='label')\n",
    "# Clip the bounding box to the catchment\n",
    "grid.clip_to('catch', precision=5)\n",
    "\n",
    "grid.accumulation(data='catch', dirmap=dirmap, pad_inplace=False, out_name='acc')"
   ]
  },
  {
   "cell_type": "code",
   "execution_count": 6,
   "metadata": {},
   "outputs": [],
   "source": [
    "profiles, connections = grid.extract_profiles('catch', grid.acc > 25)"
   ]
  },
  {
   "cell_type": "code",
   "execution_count": 7,
   "metadata": {},
   "outputs": [],
   "source": [
    "geom = grid.extract_river_network('catch', grid.acc > 25)"
   ]
  },
  {
   "cell_type": "markdown",
   "metadata": {},
   "source": [
    "# Lo Diffusion + advection"
   ]
  },
  {
   "cell_type": "code",
   "execution_count": 8,
   "metadata": {},
   "outputs": [],
   "source": [
    "dx = 60. * (np.asarray([profile.size for profile in profiles]) + 1)\n",
    "n = max(max(connections.keys()), max(connections.values())) + 1\n",
    "s = np.ones(n)\n",
    "I = np.eye(n)\n",
    "u = 1.0*np.ones(n)\n",
    "D = 40.*np.ones(n)\n",
    "dt = 1\n",
    "I[0, 0] = 0\n",
    "\n",
    "U = np.zeros((n, n))\n",
    "W = np.zeros((n, n))\n",
    "\n",
    "for i, j in connections.items():\n",
    "    # Confirmed as i\n",
    "    U[j, i] = u[i] * dt / dx[i]\n",
    "    W[i, j] = u[i] * dt / dx[i]\n",
    "    \n",
    "V = np.diag(W @ s)\n",
    "\n",
    "X = np.zeros((n, n))\n",
    "\n",
    "for i, j in connections.items():\n",
    "    X[i, j] = 2 / (dx[i] + dx[j])\n",
    "    X[j, i] = 2 / (dx[i] + dx[j])\n",
    "    \n",
    "Y = np.diag(X @ s)\n",
    "\n",
    "Z = np.diag(D * dt / dx)\n",
    "S = (U - V) - Z @ (Y - X) + I"
   ]
  },
  {
   "cell_type": "code",
   "execution_count": 9,
   "metadata": {},
   "outputs": [
    {
     "data": {
      "text/plain": [
       "(2.2411137485589836e-07,\n",
       " -2.2411137485589836e-07,\n",
       " 0.9997259569184129,\n",
       " -0.0028089938289308806)"
      ]
     },
     "execution_count": 9,
     "metadata": {},
     "output_type": "execute_result"
    }
   ],
   "source": [
    "np.imag(np.linalg.eig(S)[0]).max(), np.imag(np.linalg.eig(S)[0]).min(), np.real(np.linalg.eig(S)[0]).max(), np.real(np.linalg.eig(S)[0]).min()"
   ]
  },
  {
   "cell_type": "code",
   "execution_count": 10,
   "metadata": {},
   "outputs": [],
   "source": [
    "W_os = []\n",
    "for i in range(len(S)):\n",
    "    W_o_i = linalg.solve_discrete_lyapunov(S.T, I[[i]].T @ I[[i]])\n",
    "    W_os.append(W_o_i)"
   ]
  },
  {
   "cell_type": "code",
   "execution_count": 11,
   "metadata": {},
   "outputs": [],
   "source": [
    "Ws = []\n",
    "ss = []\n",
    "ns = 10\n",
    "\n",
    "for i in range(ns):\n",
    "    rs = np.asarray([np.linalg.matrix_rank(w + sum(Ws)) for w in W_os])\n",
    "    ix = np.argmax(rs)\n",
    "    ss.append(ix)\n",
    "    Ws.append(W_os[ix])"
   ]
  },
  {
   "cell_type": "code",
   "execution_count": 12,
   "metadata": {},
   "outputs": [],
   "source": [
    "W_c = linalg.solve_discrete_lyapunov(S, I)\n",
    "st = np.argsort(np.diag(W_c))[::-1][:6]"
   ]
  },
  {
   "cell_type": "code",
   "execution_count": 13,
   "metadata": {},
   "outputs": [],
   "source": [
    "np.random.seed(0)\n",
    "x0 = np.ones(S.shape[0])"
   ]
  },
  {
   "cell_type": "code",
   "execution_count": 14,
   "metadata": {},
   "outputs": [],
   "source": [
    "from numba import njit"
   ]
  },
  {
   "cell_type": "code",
   "execution_count": 15,
   "metadata": {},
   "outputs": [],
   "source": [
    "C = np.eye(S.shape[0])[ss]\n",
    "\n",
    "@njit(fastmath=True)\n",
    "def compute_x0s(x0, S, C, T, ts):\n",
    "    Ac = np.eye(S.shape[0])\n",
    "    Wo_r = np.zeros(S.shape)\n",
    "    R_r = np.zeros(x0.size)\n",
    "    x_0s = np.zeros((len(ts), x0.size))\n",
    "    j = 0\n",
    "    for i in range(T):\n",
    "        y = C @ Ac @ x0\n",
    "        Wo_r += (Ac.T @ C.T @ C @ Ac)\n",
    "        R_r += (Ac.T @ C.T @ y)\n",
    "        Ac = S @ Ac\n",
    "        if i == ts[j]:\n",
    "            x0_hat_r = (np.linalg.pinv(Wo_r) @ R_r)\n",
    "            x_0s[j, :] = x0_hat_r\n",
    "            j += 1\n",
    "    return x_0s"
   ]
  },
  {
   "cell_type": "code",
   "execution_count": 16,
   "metadata": {},
   "outputs": [],
   "source": [
    "ts = (np.arange(0, 25000, 500) - 1)[1:]\n",
    "x0_hats = compute_x0s(x0, S, C, ts[-1]+1, ts)"
   ]
  },
  {
   "cell_type": "code",
   "execution_count": 17,
   "metadata": {},
   "outputs": [
    {
     "data": {
      "text/plain": [
       "[<matplotlib.lines.Line2D at 0x7f84065fe310>]"
      ]
     },
     "execution_count": 17,
     "metadata": {},
     "output_type": "execute_result"
    },
    {
     "data": {
      "image/png": "[encoded data removed]",
      "text/plain": [
       "<Figure size 432x288 with 1 Axes>"
      ]
     },
     "metadata": {
      "needs_background": "light"
     },
     "output_type": "display_data"
    }
   ],
   "source": [
    "plt.plot(ts, ((x0_hats - x0)**2).sum(axis=1) / len(x0), marker='o')"
   ]
  },
  {
   "cell_type": "code",
   "execution_count": 16,
   "metadata": {},
   "outputs": [
    {
     "name": "stdout",
     "output_type": "stream",
     "text": [
      "9.14 s ± 566 ms per loop (mean ± std. dev. of 7 runs, 1 loop each)\n"
     ]
    }
   ],
   "source": [
    "%timeit compute_x0s(x0, S, C, 4000, np.asarray([999, 1999, 2999, 3999]))"
   ]
  },
  {
   "cell_type": "code",
   "execution_count": 17,
   "metadata": {},
   "outputs": [],
   "source": [
    "Adj = np.zeros((n, n))\n",
    "\n",
    "for i, j in connections.items():\n",
    "    # Confirmed as i\n",
    "    Adj[j, i] = 1\n",
    "    Adj[i, j] = 1\n",
    "    \n",
    "Lap = sparse.csgraph.laplacian(Adj)"
   ]
  },
  {
   "cell_type": "code",
   "execution_count": 18,
   "metadata": {},
   "outputs": [],
   "source": [
    "L, U = np.linalg.eigh(Lap)\n",
    "ghat = np.exp(-1*L)"
   ]
  },
  {
   "cell_type": "code",
   "execution_count": 19,
   "metadata": {},
   "outputs": [],
   "source": [
    "x0 = U[:,1].ravel()"
   ]
  },
  {
   "cell_type": "code",
   "execution_count": 24,
   "metadata": {},
   "outputs": [],
   "source": [
    "ts = (np.arange(0, 12000, 500) - 1)[1:]\n",
    "x0_hats = compute_x0s(x0, S, C, ts[-1]+1, ts)"
   ]
  },
  {
   "cell_type": "code",
   "execution_count": 25,
   "metadata": {},
   "outputs": [
    {
     "data": {
      "text/plain": [
       "[<matplotlib.lines.Line2D at 0x7f6499b231f0>]"
      ]
     },
     "execution_count": 25,
     "metadata": {},
     "output_type": "execute_result"
    },
    {
     "data": {
      "image/png": "[encoded data removed]",
      "text/plain": [
       "<Figure size 432x288 with 1 Axes>"
      ]
     },
     "metadata": {
      "needs_background": "light"
     },
     "output_type": "display_data"
    }
   ],
   "source": [
    "plt.plot(ts, ((x0_hats - x0)**2).sum(axis=1) / len(x0), marker='o')"
   ]
  },
  {
   "cell_type": "code",
   "execution_count": 31,
   "metadata": {},
   "outputs": [],
   "source": [
    "C = np.eye(S.shape[0])[ss]\n",
    "\n",
    "@njit(fastmath=True)\n",
    "def compute_gramian(x0, S, C, T):\n",
    "    Ac = np.eye(S.shape[0])\n",
    "    Wo_r = np.zeros(S.shape)\n",
    "    R_r = np.zeros(x0.shape)\n",
    "    for i in range(T):\n",
    "        y = C @ Ac @ x0\n",
    "        Wo_r += (Ac.T @ C.T @ C @ Ac)\n",
    "        R_r += (Ac.T @ C.T @ y)\n",
    "        Ac = S @ Ac\n",
    "    return Wo_r, R_r"
   ]
  },
  {
   "cell_type": "code",
   "execution_count": 33,
   "metadata": {},
   "outputs": [
    {
     "name": "stdout",
     "output_type": "stream",
     "text": [
      "8.21 s ± 38.7 ms per loop (mean ± std. dev. of 7 runs, 1 loop each)\n"
     ]
    }
   ],
   "source": [
    "%timeit _ = compute_gramian(x0, S, C, 4000)"
   ]
  },
  {
   "cell_type": "code",
   "execution_count": null,
   "metadata": {},
   "outputs": [],
   "source": []
  }
 ],
 "metadata": {
  "kernelspec": {
   "display_name": "Python 3",
   "language": "python",
   "name": "python3"
  },
  "language_info": {
   "codemirror_mode": {
    "name": "ipython",
    "version": 3
   },
   "file_extension": ".py",
   "mimetype": "text/x-python",
   "name": "python",
   "nbconvert_exporter": "python",
   "pygments_lexer": "ipython3",
   "version": "3.8.2"
  }
 },
 "nbformat": 4,
 "nbformat_minor": 4
}
