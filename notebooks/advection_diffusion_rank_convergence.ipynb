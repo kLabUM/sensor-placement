{
 "cells": [
  {
   "cell_type": "code",
   "execution_count": 1,
   "metadata": {
    "collapsed": true
   },
   "outputs": [],
   "source": [
    "import os\n",
    "import sys\n",
    "import numpy as np\n",
    "import pandas as pd\n",
    "from scipy import misc\n",
    "import matplotlib.pyplot as plt\n",
    "from scipy import sparse\n",
    "from scipy.sparse import csgraph\n",
    "from scipy import linalg\n",
    "from pysheds.grid import Grid\n",
    "from scipy import ndimage\n",
    "from matplotlib import colors\n",
    "import seaborn as sns\n",
    "\n",
    "import matplotlib\n",
    "import matplotlib.cm as cm\n",
    "from matplotlib.collections import LineCollection\n",
    "\n",
    "%matplotlib inline"
   ]
  },
  {
   "cell_type": "code",
   "execution_count": 2,
   "metadata": {
    "collapsed": true
   },
   "outputs": [],
   "source": [
    "sns.set_palette('husl', 2)"
   ]
  },
  {
   "cell_type": "code",
   "execution_count": 3,
   "metadata": {
    "collapsed": true
   },
   "outputs": [],
   "source": [
    "grid = Grid.from_raster('../data/n30w100_dir',\n",
    "                 data_name='dir', input_type='ascii')"
   ]
  },
  {
   "cell_type": "code",
   "execution_count": 4,
   "metadata": {
    "collapsed": true
   },
   "outputs": [],
   "source": [
    "grid.read_raster('../data/n30w100_con',\n",
    "                 data_name='dem', input_type='ascii')"
   ]
  },
  {
   "cell_type": "code",
   "execution_count": 5,
   "metadata": {},
   "outputs": [],
   "source": [
    "dirmap = (64,  128,  1,   2,    4,   8,    16,  32)\n",
    "\n",
    "# Specify pour point\n",
    "x, y = -97.294167, 32.73750\n",
    "\n",
    "# Delineate the catchment\n",
    "grid.catchment(data='dir', x=x, y=y, dirmap=dirmap, out_name='catch',\n",
    "               recursionlimit=15000, xytype='label')\n",
    "# Clip the bounding box to the catchment\n",
    "grid.clip_to('catch', precision=5)\n",
    "\n",
    "grid.accumulation(data='catch', dirmap=dirmap, pad_inplace=False, out_name='acc')"
   ]
  },
  {
   "cell_type": "code",
   "execution_count": 6,
   "metadata": {},
   "outputs": [],
   "source": [
    "profiles, connections = grid.extract_profiles('catch', grid.acc > 25)"
   ]
  },
  {
   "cell_type": "code",
   "execution_count": 7,
   "metadata": {},
   "outputs": [],
   "source": [
    "geom = grid.extract_river_network('catch', grid.acc > 25)"
   ]
  },
  {
   "cell_type": "code",
   "execution_count": 8,
   "metadata": {},
   "outputs": [],
   "source": [
    "dx = np.asarray([profile.size for profile in profiles]) + 1\n",
    "n = max(max(connections.keys()), max(connections.values())) + 1\n",
    "s = np.ones(n)\n",
    "I = np.eye(n)\n",
    "u = 1.0*np.ones(n)\n",
    "D = 0.5*np.ones(n)\n",
    "dt = 1\n",
    "I[0, 0] = 0\n",
    "\n",
    "U = np.zeros((n, n))\n",
    "W = np.zeros((n, n))\n",
    "\n",
    "for i, j in connections.items():\n",
    "    # Confirmed as i\n",
    "    U[j, i] = u[i] * dt / dx[i]\n",
    "    W[i, j] = u[i] * dt / dx[i]\n",
    "    \n",
    "V = np.diag(W @ s)\n",
    "\n",
    "X = np.zeros((n, n))\n",
    "\n",
    "for i, j in connections.items():\n",
    "    X[i, j] = 2 / (dx[i] + dx[j])\n",
    "    X[j, i] = 2 / (dx[i] + dx[j])\n",
    "    \n",
    "Y = np.diag(X @ s)\n",
    "\n",
    "Z = np.diag(D * dt / dx)\n",
    "S = (U - V) - Z @ (Y - X) + I"
   ]
  },
  {
   "cell_type": "code",
   "execution_count": 9,
   "metadata": {},
   "outputs": [
    {
     "data": {
      "text/plain": [
       "(0.0, 0.0, 0.9752115934621514, -0.2799376721318297)"
      ]
     },
     "execution_count": 9,
     "metadata": {},
     "output_type": "execute_result"
    }
   ],
   "source": [
    "np.imag(np.linalg.eig(S)[0]).max(), np.imag(np.linalg.eig(S)[0]).min(), np.real(np.linalg.eig(S)[0]).max(), np.real(np.linalg.eig(S)[0]).min()"
   ]
  },
  {
   "cell_type": "code",
   "execution_count": 10,
   "metadata": {},
   "outputs": [],
   "source": [
    "W_os = []\n",
    "for i in range(len(S)):\n",
    "    W_o_i = linalg.solve_discrete_lyapunov(S.T, I[[i]].T @ I[[i]])\n",
    "    W_os.append(W_o_i)"
   ]
  },
  {
   "cell_type": "code",
   "execution_count": 11,
   "metadata": {},
   "outputs": [],
   "source": [
    "Ws = []\n",
    "sr = []\n",
    "rr = []\n",
    "ns = 32\n",
    "\n",
    "for i in range(ns):\n",
    "    rs = np.asarray([np.linalg.matrix_rank(w + sum(Ws)) for w in W_os])\n",
    "    ix = np.argmax(rs)\n",
    "    rr.append(rs[ix])\n",
    "    sr.append(ix)\n",
    "    Ws.append(W_os[ix])"
   ]
  },
  {
   "cell_type": "code",
   "execution_count": 12,
   "metadata": {},
   "outputs": [],
   "source": [
    "W_c = linalg.solve_discrete_lyapunov(S, I)\n",
    "st = np.argsort(np.diag(W_c))[::-1]"
   ]
  },
  {
   "cell_type": "code",
   "execution_count": 13,
   "metadata": {},
   "outputs": [],
   "source": [
    "Ws = np.zeros(S.shape)\n",
    "rt = []\n",
    "\n",
    "for ix in st:\n",
    "    w = W_os[ix]\n",
    "    r = np.linalg.matrix_rank(w + Ws)\n",
    "    rt.append(r)\n",
    "    Ws += w"
   ]
  },
  {
   "cell_type": "code",
   "execution_count": 14,
   "metadata": {},
   "outputs": [],
   "source": [
    "rt = np.asarray(rt)"
   ]
  },
  {
   "cell_type": "code",
   "execution_count": 15,
   "metadata": {},
   "outputs": [
    {
     "data": {
      "text/plain": [
       "213"
      ]
     },
     "execution_count": 15,
     "metadata": {},
     "output_type": "execute_result"
    }
   ],
   "source": [
    "(rt < len(S)).sum()"
   ]
  },
  {
   "cell_type": "code",
   "execution_count": 16,
   "metadata": {},
   "outputs": [],
   "source": [
    "np.random.seed(0)\n",
    "sss = [np.random.choice(np.arange(1, len(S)), size=len(S) - 1, replace=False) for _ in range(10)]"
   ]
  },
  {
   "cell_type": "code",
   "execution_count": 17,
   "metadata": {},
   "outputs": [],
   "source": [
    "rts = []\n",
    "\n",
    "for ss in sss:\n",
    "    Ws = np.zeros(S.shape)\n",
    "    rt = []\n",
    "    for ix in ss:\n",
    "        w = W_os[ix]\n",
    "        r = np.linalg.matrix_rank(w + Ws)\n",
    "        rt.append(r)\n",
    "        Ws += w\n",
    "    rts.append(np.asarray(rt))"
   ]
  },
  {
   "cell_type": "code",
   "execution_count": 18,
   "metadata": {},
   "outputs": [
    {
     "data": {
      "text/plain": [
       "141.9"
      ]
     },
     "execution_count": 18,
     "metadata": {},
     "output_type": "execute_result"
    }
   ],
   "source": [
    "np.asarray([(rt < len(S)).sum() for rt in rts]).mean()"
   ]
  },
  {
   "cell_type": "code",
   "execution_count": 19,
   "metadata": {},
   "outputs": [
    {
     "data": {
      "image/png": "[encoded data removed]",
      "text/plain": [
       "<Figure size 864x288 with 2 Axes>"
      ]
     },
     "metadata": {},
     "output_type": "display_data"
    }
   ],
   "source": [
    "fig, ax = plt.subplots(1, 2, figsize=(12,4))\n",
    "\n",
    "ax[0].plot(np.arange(0, len(rr)+1), [0] + rr[:len(rr)], marker='o', markersize=4, label='rank-optimized', zorder=5, c='r')\n",
    "ax[0].plot(np.arange(0, len(rr)+1), [0] + rt[:len(rr)], marker='o', markersize=4, label='trace-optimized', c='b')\n",
    "ax[0].axhline(len(S), linestyle='--', c='0.5', alpha=0.75, label='full rank')\n",
    "ax[0].xaxis.set_ticks(np.arange(0, 33, 4))\n",
    "ax[0].set_ylabel('rank $(W_o)$', size=14)\n",
    "ax[0].set_xlabel('Number of sensors', size=14)\n",
    "ax[0].set_ylim(-4, 235)\n",
    "ax[0].legend()\n",
    "ax[0].set_title('Rank vs. number of sensors', size=14)\n",
    "\n",
    "ax[1].plot(np.arange(0, len(rr)+1), [0] + np.cumsum(np.diag(W_c)[sr]).tolist()[:len(rr)], marker='o', markersize=4, label='rank-optimized', c='r')\n",
    "ax[1].plot(np.arange(0, len(rr)+1), [0] + np.cumsum(np.diag(W_c)[st]).tolist()[:len(rr)], marker='o', markersize=4, label='trace-optimized', c='b')\n",
    "ax[1].axhline(np.diag(W_c).sum(), linestyle='--', c='0.5', alpha=0.75, label='maximum trace')\n",
    "ax[1].xaxis.set_ticks(np.arange(0, 33, 4))\n",
    "ax[1].set_ylabel('Tr $(W_o)$', size=14)\n",
    "ax[1].set_xlabel('Number of sensors', size=14)\n",
    "ax[1].set_ylim(-2000, 125000)\n",
    "ax[1].legend()\n",
    "ax[1].set_title('Trace vs. number of sensors', size=14)\n",
    "\n",
    "plt.tight_layout()\n",
    "plt.savefig('rank-trace-vs-num-sensors.png', bbox_inches='tight')"
   ]
  },
  {
   "cell_type": "code",
   "execution_count": null,
   "metadata": {},
   "outputs": [],
   "source": []
  }
 ],
 "metadata": {
  "kernelspec": {
   "display_name": "Python 3",
   "language": "python",
   "name": "python3"
  },
  "language_info": {
   "codemirror_mode": {
    "name": "ipython",
    "version": 3
   },
   "file_extension": ".py",
   "mimetype": "text/x-python",
   "name": "python",
   "nbconvert_exporter": "python",
   "pygments_lexer": "ipython3",
   "version": "3.6.0"
  }
 },
 "nbformat": 4,
 "nbformat_minor": 2
}
